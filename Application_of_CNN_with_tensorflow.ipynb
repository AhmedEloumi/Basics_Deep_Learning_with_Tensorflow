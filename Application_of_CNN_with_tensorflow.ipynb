{
  "cells": [
    {
      "cell_type": "markdown",
      "metadata": {
        "id": "view-in-github",
        "colab_type": "text"
      },
      "source": [
        "<a href=\"https://colab.research.google.com/github/AhmedEloumi/Deep-Learning-with-Tensorflow/blob/main/Application_of_CNN_with_tensorflow.ipynb\" target=\"_parent\"><img src=\"https://colab.research.google.com/assets/colab-badge.svg\" alt=\"Open In Colab\"/></a>"
      ]
    },
    {
      "cell_type": "code",
      "execution_count": 15,
      "metadata": {
        "id": "1MKaGzT4bvmA"
      },
      "outputs": [],
      "source": [
        "import tensorflow as tf\n",
        "import numpy as np\n",
        "import matplotlib.pyplot as plt\n",
        "from tensorflow.keras.datasets import cifar10\n",
        "from tensorflow.keras.preprocessing.image import ImageDataGenerator\n",
        "from tensorflow.keras.models import Sequential\n",
        "from tensorflow.keras.layers import Dense , Activation,Flatten\n",
        "from tensorflow.keras.layers import Conv2D,MaxPooling2D"
      ]
    },
    {
      "cell_type": "code",
      "execution_count": 16,
      "metadata": {
        "id": "M3jrz3widNc0"
      },
      "outputs": [],
      "source": [
        "#database loading\n",
        "(X_train,y_train),(X_test,y_test)=cifar10.load_data()"
      ]
    },
    {
      "cell_type": "code",
      "execution_count": 17,
      "metadata": {
        "colab": {
          "base_uri": "https://localhost:8080/",
          "height": 283
        },
        "id": "-HIl9-HbejUL",
        "outputId": "a00c677f-5f24-483a-ba06-dc7b81e243dc"
      },
      "outputs": [
        {
          "output_type": "stream",
          "name": "stdout",
          "text": [
            "[1]\n"
          ]
        },
        {
          "output_type": "display_data",
          "data": {
            "text/plain": [
              "<Figure size 432x288 with 1 Axes>"
            ],
            "image/png": "[encoded data removed]"
          },
          "metadata": {
            "needs_background": "light"
          }
        }
      ],
      "source": [
        "plt.imshow(X_train[5])\n",
        "print(y_train[5])"
      ]
    },
    {
      "cell_type": "code",
      "execution_count": 18,
      "metadata": {
        "id": "pzIGraTTesR3"
      },
      "outputs": [],
      "source": [
        "#Normalize Iamges\n",
        "x_train=X_train/255.0\n",
        "x_test=X_test/255.0"
      ]
    },
    {
      "cell_type": "code",
      "execution_count": 19,
      "metadata": {
        "id": "c814gF2qfhxI"
      },
      "outputs": [],
      "source": [
        "#create model\n",
        "model=Sequential()"
      ]
    },
    {
      "cell_type": "code",
      "execution_count": 20,
      "metadata": {
        "id": "-DKRVxe5fsy3"
      },
      "outputs": [],
      "source": [
        "#create CNN\n",
        "model.add(Conv2D(256,(3,3),input_shape=X_train.shape[1:])) #256 le nbre de filtre (3,3) le taille de filtre\n",
        "model.add(Activation('relu'))\n",
        "model.add(MaxPooling2D(pool_size=(2,2)))"
      ]
    },
    {
      "cell_type": "code",
      "execution_count": 21,
      "metadata": {
        "id": "yaKHtCiTLQXZ"
      },
      "outputs": [],
      "source": [
        "# Add another convolution Layer\n",
        "model.add(Conv2D(256,(3,3))) \n",
        "model.add(Activation('relu'))\n",
        "model.add(MaxPooling2D(pool_size=(2,2)))"
      ]
    },
    {
      "cell_type": "code",
      "execution_count": 22,
      "metadata": {
        "id": "3tqjHV0tsez9"
      },
      "outputs": [],
      "source": [
        "model.add(Flatten())"
      ]
    },
    {
      "cell_type": "code",
      "execution_count": 23,
      "metadata": {
        "id": "AhMrxrmKrmFd"
      },
      "outputs": [],
      "source": [
        "# fully connected\n",
        "model.add(Dense(64)) \n",
        "model.add(Dense(10)) # 10 categories of Images\n",
        "model.add(Activation('sigmoid'))\n",
        "model.compile(loss='sparse_categorical_crossentropy',optimizer='Adam',metrics=['sparse_categorical_accuracy'])"
      ]
    },
    {
      "cell_type": "code",
      "source": [
        "model.fit(X_train,y_train,batch_size=32,epochs=10) #waste a lot of time"
      ],
      "metadata": {
        "id": "1z1l3BQg969J"
      },
      "execution_count": null,
      "outputs": []
    },
    {
      "cell_type": "code",
      "source": [
        "test_loss,test_accuracy=model.evaluate(X_test,y_test) #waste a lot of time"
      ],
      "metadata": {
        "id": "R9CtXKNa-Sko"
      },
      "execution_count": null,
      "outputs": []
    }
  ],
  "metadata": {
    "colab": {
      "collapsed_sections": [],
      "name": "Application of CNN with tensorflow",
      "provenance": [],
      "authorship_tag": "ABX9TyMouXDliO6vWdPLy+n/vDlP",
      "include_colab_link": true
    },
    "kernelspec": {
      "display_name": "Python 3",
      "name": "python3"
    },
    "language_info": {
      "name": "python"
    }
  },
  "nbformat": 4,
  "nbformat_minor": 0
}